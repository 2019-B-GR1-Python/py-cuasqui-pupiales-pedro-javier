{
 "cells": [
  {
   "cell_type": "code",
   "execution_count": 7,
   "metadata": {},
   "outputs": [
    {
     "name": "stdout",
     "output_type": "stream",
     "text": [
      "linea1 Buenos dias\n",
      "\n",
      "linea1 Buenas tardes\n",
      "\n",
      "linea1 buenas noches\n",
      "\n",
      "<class 'str'>\n",
      "linea1 ['Buenos dias\\n', 'Buenas tardes\\n', 'buenas noches\\n']\n",
      "Buenos dias\n",
      "\n",
      "Buenas tardes\n",
      "\n",
      "buenas noches\n",
      "\n"
     ]
    }
   ],
   "source": [
    "#Archivos\n",
    "try:\n",
    "    path=\"./frases.txt\"\n",
    "    archivo_abierto = open(path)\n",
    "    linea1= archivo_abierto.readline()\n",
    "    print(f\"linea1 {linea1}\")\n",
    "    linea2= archivo_abierto.readline()\n",
    "    print(f\"linea1 {linea2}\")\n",
    "    linea3= archivo_abierto.readline()\n",
    "    print(f\"linea1 {linea3}\")\n",
    "    print(type(linea3)) #<-string\n",
    "    archivo_abierto.close\n",
    "except Exception as error:\n",
    "    print(\"error\")\n",
    "\n",
    "    \n",
    "    #Archivos\n",
    "try:\n",
    "    path=\"./frases.txt\"\n",
    "    archivo_abierto = open(path)\n",
    "    lineas= archivo_abierto.readlines()\n",
    "    print(f\"linea1 {lineas}\")\n",
    "    for linea in lineas:\n",
    "        print(linea)\n",
    "    archivo_abierto.close\n",
    "except Exception as error:\n",
    "    print(\"error\")"
   ]
  },
  {
   "cell_type": "code",
   "execution_count": 18,
   "metadata": {},
   "outputs": [],
   "source": [
    "try:\n",
    "    path=\"./frases.txt\"\n",
    "    archivo_escritura_abierto = open(path,mode=\"a\") #<-append : aniade lineas\n",
    "    #archivo_escritura_abierto = open(path,mode=\"w\") #<-Write: sobreescribe el texto\n",
    "    archivo_escritura_abierto.write(\"buenas madrugadas\\n\")\n",
    "    archivo_escritura_abierto.writelines([\"buenas madrugadas1\\n\",\"buena medianoche1\\n\",\"hola perinola1\\n\"])\n",
    "    archivo_escritura_abierto.close\n",
    "except Exception as error:\n",
    "    print(f\"error {error}\")\n",
    "    \n"
   ]
  },
  {
   "cell_type": "code",
   "execution_count": null,
   "metadata": {},
   "outputs": [],
   "source": []
  },
  {
   "cell_type": "code",
   "execution_count": null,
   "metadata": {},
   "outputs": [],
   "source": []
  }
 ],
 "metadata": {
  "kernelspec": {
   "display_name": "Python 3",
   "language": "python",
   "name": "python3"
  },
  "language_info": {
   "codemirror_mode": {
    "name": "ipython",
    "version": 3
   },
   "file_extension": ".py",
   "mimetype": "text/x-python",
   "name": "python",
   "nbconvert_exporter": "python",
   "pygments_lexer": "ipython3",
   "version": "3.7.3"
  }
 },
 "nbformat": 4,
 "nbformat_minor": 2
}
