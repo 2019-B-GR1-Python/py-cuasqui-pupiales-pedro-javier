{
 "cells": [
  {
   "cell_type": "code",
   "execution_count": 2,
   "metadata": {},
   "outputs": [
    {
     "data": {
      "text/plain": [
       "4"
      ]
     },
     "execution_count": 2,
     "metadata": {},
     "output_type": "execute_result"
    }
   ],
   "source": [
    "def elevar_cuadrado(numero):\n",
    "    return numero*numero\n",
    "elevar_cuadrado(2)"
   ]
  },
  {
   "cell_type": "code",
   "execution_count": 3,
   "metadata": {},
   "outputs": [
    {
     "data": {
      "text/plain": [
       "4"
      ]
     },
     "execution_count": 3,
     "metadata": {},
     "output_type": "execute_result"
    }
   ],
   "source": [
    "funcion_lambda = lambda numero: numero*numero\n",
    "funcion_lambda(2)"
   ]
  },
  {
   "cell_type": "code",
   "execution_count": 4,
   "metadata": {},
   "outputs": [
    {
     "name": "stdout",
     "output_type": "stream",
     "text": [
      "Mensaje: Ministros\n"
     ]
    }
   ],
   "source": [
    "imprimir = lambda mensaje: print(f\"Mensaje: {mensaje}\")\n",
    "imprimir(\"Ministros\")"
   ]
  },
  {
   "cell_type": "code",
   "execution_count": 5,
   "metadata": {},
   "outputs": [
    {
     "data": {
      "text/plain": [
       "9"
      ]
     },
     "execution_count": 5,
     "metadata": {},
     "output_type": "execute_result"
    }
   ],
   "source": [
    "sumar_dos_numeros = lambda x,y : x+y\n",
    "sumar_dos_numeros(4,5)"
   ]
  },
  {
   "cell_type": "code",
   "execution_count": 8,
   "metadata": {},
   "outputs": [
    {
     "name": "stdout",
     "output_type": "stream",
     "text": [
      "<__main__.Nada object at 0x000002190ABDDA58>\n",
      "<class '__main__.Nada'>\n"
     ]
    }
   ],
   "source": [
    "class Nada:\n",
    "    pass\n",
    "\n",
    "\n",
    "una_Nada= Nada()\n",
    "print (una_Nada)\n",
    "print(type(una_Nada))"
   ]
  },
  {
   "cell_type": "code",
   "execution_count": 22,
   "metadata": {},
   "outputs": [
    {
     "name": "stdout",
     "output_type": "stream",
     "text": [
      "Empezo el constructor\n",
      "None\n",
      "amazul\n",
      "1\n",
      "False\n",
      "color: amazulnumero chasis:1\n",
      "impuesto por chasis: 14\n"
     ]
    }
   ],
   "source": [
    "class Auto:\n",
    "    color=None\n",
    "    __numero_chasis=1                #<----------------VARIABLE PRIVADA, SE ACCEDE MEDIANTE _<Clase><Nombre Variable>\n",
    "    _emitido= False                   #<---------------VARIABLE PUBLICA, SE PUEDE ACCEDER SIEMPRE\n",
    "    def __init__(self,color): #self = this\n",
    "        print(\"Empezo el constructor\")\n",
    "        print(self.color)\n",
    "        self.color=color\n",
    "        \n",
    "    def __str__ (self):\n",
    "        return f\"color: {self.color}\"+f\"numero chasis:{self.__numero_chasis}\"\n",
    "    \n",
    "    def numero_chasis_impuesto(self):\n",
    "        return f\"impuesto por chasis: {self.__calcular_impuesto()}\"\n",
    "    \n",
    "    def __calcular_impuesto(self):\n",
    "        return 14*self.__numero_chasis\n",
    "    \n",
    "auto= Auto(\"amazul\")\n",
    "print(auto.color)\n",
    "print(auto._Auto__numero_chasis) #<--la documentación de Python señala, que cualquier mombre de la forma __spam se sustituye por _NombreClase__spam, donde NombreClase es el nombre de la clase actual en donde esta el doble guión bajo.\n",
    "print(auto._emitido) \n",
    "print(auto)\n",
    "print (auto.numero_chasis_impuesto())"
   ]
  },
  {
   "cell_type": "code",
   "execution_count": 24,
   "metadata": {},
   "outputs": [
    {
     "name": "stdout",
     "output_type": "stream",
     "text": [
      "BMW:clase padre Auto\n",
      "Empezo el constructor\n",
      "None\n"
     ]
    }
   ],
   "source": [
    "class BMW(Auto):\n",
    "     def __init__(self, color):\n",
    "            print(\"BMW:clase padre Auto\")\n",
    "            super().__init__(color)\n",
    "bmw = BMW(\"azul\")"
   ]
  },
  {
   "cell_type": "code",
   "execution_count": 6,
   "metadata": {},
   "outputs": [
    {
     "name": "stdout",
     "output_type": "stream",
     "text": [
      "sumna\n"
     ]
    },
    {
     "data": {
      "text/plain": [
       "2.0"
      ]
     },
     "execution_count": 6,
     "metadata": {},
     "output_type": "execute_result"
    }
   ],
   "source": [
    "#Funciones dentro de funciones\n",
    "def calculadora(num_uno, num_dos, operacion = \"suma\"):\n",
    "    def suma():\n",
    "        print(f\"sumna\")\n",
    "        return num_uno + num_dos\n",
    "    def resta():\n",
    "        return num_uno - num_dos\n",
    "    def multiplicacion():\n",
    "        return num_uno * num_dos\n",
    "    def division():\n",
    "        return num_uno / num_dos\n",
    "    opciones ={\n",
    "            'suma': suma,\n",
    "            'resta': resta,\n",
    "            'multiplicacion':multiplicacion,\n",
    "            'division': division\n",
    "        }\n",
    "#     def opcion_seleccionada():\n",
    "#         opciones ={\n",
    "#             'suma': suma(),\n",
    "#             'resta': resta(),\n",
    "#             'multiplicacion':multiplicacion(),\n",
    "#             'division': division()\n",
    "#         }\n",
    "#         return opciones[operacion]\n",
    "        \n",
    "#     return opcion_seleccionada()\n",
    "    return opciones[operacion]()\n",
    "\n",
    "calculadora(4,2, \"division\")"
   ]
  },
  {
   "cell_type": "code",
   "execution_count": 5,
   "metadata": {},
   "outputs": [
    {
     "name": "stdout",
     "output_type": "stream",
     "text": [
      "Tu edad es:   def menu_cliente():         seleccion=input(\"Seleccione la opción: \\n Nuevo:1 \\n Buscar 2 \\n Actualizar: 3 \\n Eliminar 4\")         opciones ={             \"1\":Create_cliente(),             \"2\":Read_cliente(),             \"3\":Update_cliente(),             \"4\":*Delete_cliente()         }         return opciones[seleccion]\n"
     ]
    },
    {
     "data": {
      "text/plain": [
       "'  def menu_cliente():         seleccion=input(\"Seleccione la opción: \\\\n Nuevo:1 \\\\n Buscar 2 \\\\n Actualizar: 3 \\\\n Eliminar 4\")         opciones ={             \"1\":Create_cliente(),             \"2\":Read_cliente(),             \"3\":Update_cliente(),             \"4\":*Delete_cliente()         }         return opciones[seleccion]'"
      ]
     },
     "execution_count": 5,
     "metadata": {},
     "output_type": "execute_result"
    }
   ],
   "source": [
    "input(\"Tu edad es: \")"
   ]
  },
  {
   "cell_type": "code",
   "execution_count": null,
   "metadata": {},
   "outputs": [],
   "source": []
  },
  {
   "cell_type": "code",
   "execution_count": null,
   "metadata": {},
   "outputs": [],
   "source": []
  },
  {
   "cell_type": "code",
   "execution_count": null,
   "metadata": {},
   "outputs": [],
   "source": []
  },
  {
   "cell_type": "code",
   "execution_count": null,
   "metadata": {},
   "outputs": [],
   "source": []
  },
  {
   "cell_type": "code",
   "execution_count": null,
   "metadata": {},
   "outputs": [],
   "source": []
  },
  {
   "cell_type": "code",
   "execution_count": null,
   "metadata": {},
   "outputs": [],
   "source": []
  },
  {
   "cell_type": "code",
   "execution_count": null,
   "metadata": {},
   "outputs": [],
   "source": []
  },
  {
   "cell_type": "code",
   "execution_count": null,
   "metadata": {},
   "outputs": [],
   "source": []
  },
  {
   "cell_type": "code",
   "execution_count": null,
   "metadata": {},
   "outputs": [],
   "source": []
  }
 ],
 "metadata": {
  "kernelspec": {
   "display_name": "Python 3",
   "language": "python",
   "name": "python3"
  },
  "language_info": {
   "codemirror_mode": {
    "name": "ipython",
    "version": 3
   },
   "file_extension": ".py",
   "mimetype": "text/x-python",
   "name": "python",
   "nbconvert_exporter": "python",
   "pygments_lexer": "ipython3",
   "version": "3.7.3"
  }
 },
 "nbformat": 4,
 "nbformat_minor": 2
}
