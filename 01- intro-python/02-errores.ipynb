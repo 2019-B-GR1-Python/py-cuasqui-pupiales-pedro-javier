{
 "cells": [
  {
   "cell_type": "code",
   "execution_count": 6,
   "metadata": {},
   "outputs": [
    {
     "name": "stdout",
     "output_type": "stream",
     "text": [
      "Error agrupado comun\n",
      "no se cae\n"
     ]
    }
   ],
   "source": [
    "#ERRORES\n",
    "#1) ERROR DES ISTAXIS ->SyntaxError: invalid syntax\n",
    "#2) DIVISION PARA CERO\n",
    "#3) A+B NAME ERROR\n",
    "#4) PROPIEDADA INEXISTENTE\n",
    "\n",
    "#a={'b':'b'}\n",
    "#a['c'] Key error\n",
    "\n",
    "\n",
    "#try catch\n",
    "try:\n",
    "    #a+b\n",
    "    0/0\n",
    "    a={'b':'b'}\n",
    "    a['c']\n",
    "except NameError as nameError:    \n",
    "    print('NameError')\n",
    "except (ZeroDivisionError, KeyError) as errorComun:    \n",
    "    print('Error agrupado comun')\n",
    "except Exception as error:\n",
    "    print ('error')\n",
    "#print('no se cae')"
   ]
  },
  {
   "cell_type": "code",
   "execution_count": null,
   "metadata": {},
   "outputs": [],
   "source": []
  }
 ],
 "metadata": {
  "kernelspec": {
   "display_name": "Python 3",
   "language": "python",
   "name": "python3"
  },
  "language_info": {
   "codemirror_mode": {
    "name": "ipython",
    "version": 3
   },
   "file_extension": ".py",
   "mimetype": "text/x-python",
   "name": "python",
   "nbconvert_exporter": "python",
   "pygments_lexer": "ipython3",
   "version": "3.7.3"
  }
 },
 "nbformat": 4,
 "nbformat_minor": 2
}
