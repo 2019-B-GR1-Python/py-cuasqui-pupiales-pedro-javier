{
 "cells": [
  {
   "cell_type": "code",
   "execution_count": 1,
   "metadata": {},
   "outputs": [
    {
     "name": "stdout",
     "output_type": "stream",
     "text": [
      "la parte real: 4.2\n",
      "la parte imaginaria: -1\n"
     ]
    }
   ],
   "source": [
    "class Complejo:\n",
    "    def __init__(self,parteReal, parteImaginaria):\n",
    "        self.real= parteReal\n",
    "        self.imag=parteImaginaria\n",
    "        \n",
    "complejo =Complejo(4.2,-1)\n",
    "print(f\"la parte real: {complejo.real}\")\n",
    "print(f\"la parte imaginaria: {complejo.imag}\")"
   ]
  },
  {
   "cell_type": "code",
   "execution_count": 2,
   "metadata": {},
   "outputs": [
    {
     "name": "stdout",
     "output_type": "stream",
     "text": [
      "el perro es: Marco\n",
      "el perro puede: dar la pata\n"
     ]
    }
   ],
   "source": [
    "class Perro:\n",
    "    trucos=[]\n",
    "    def __init__(self, nombre):\n",
    "        self.nombre=nombre\n",
    "    def agregar_truco (self,truco):\n",
    "        self.trucos.append(truco)\n",
    "perro= Perro(\"Marco\")\n",
    "perro.agregar_truco(\"dar la pata\")\n",
    "\n",
    "print(f\"el perro es: {perro.nombre}\")\n",
    "print(f\"el perro puede: {perro.trucos[0]}\")"
   ]
  }
 ],
 "metadata": {
  "kernelspec": {
   "display_name": "Python 3",
   "language": "python",
   "name": "python3"
  },
  "language_info": {
   "codemirror_mode": {
    "name": "ipython",
    "version": 3
   },
   "file_extension": ".py",
   "mimetype": "text/x-python",
   "name": "python",
   "nbconvert_exporter": "python",
   "pygments_lexer": "ipython3",
   "version": "3.7.3"
  }
 },
 "nbformat": 4,
 "nbformat_minor": 2
}
