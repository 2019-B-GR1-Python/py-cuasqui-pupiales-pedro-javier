{
 "cells": [
  {
   "cell_type": "code",
   "execution_count": null,
   "metadata": {},
   "outputs": [],
   "source": [
    "print (\"Hola mundo\")"
   ]
  },
  {
   "cell_type": "code",
   "execution_count": 25,
   "metadata": {},
   "outputs": [
    {
     "name": "stdout",
     "output_type": "stream",
     "text": [
      "<class 'int'>\n",
      "<class 'float'>\n",
      "<class 'str'>\n",
      "<class 'bool'>\n",
      "<class 'NoneType'>\n"
     ]
    }
   ],
   "source": [
    "#Varibales  PRIMITIVAS\n",
    "entero = 3\n",
    "decimal=  1.1\n",
    "nombre =\"Pedro\"\n",
    "segundo_nombre = 'Javier'\n",
    "casado = False\n",
    "hijos= None #en lugar de null\n",
    "profesor = True\n",
    "\n",
    "print(type(entero)) #int #una buena practica es dejar dos espacios despues del codigo para escribir el comentario\n",
    "print(type(decimal)) #float\n",
    "print(type(nombre)) #str\n",
    "print(type(casado))#bool\n",
    "print(type(hijos)) #NoneType\n",
    "#\"\"\"\"\n",
    "#bloque de comentarios, se puede guardar dentro de una variable\n",
    "#\"\"\"\"\n",
    "# se pueden reasignar variables\n"
   ]
  },
  {
   "cell_type": "code",
   "execution_count": null,
   "metadata": {},
   "outputs": [],
   "source": [
    "#se pueden reasignar valores a las variables\n",
    "print(entero)\n",
    "entero= decimal\n",
    "print(entero)"
   ]
  },
  {
   "cell_type": "code",
   "execution_count": 24,
   "metadata": {},
   "outputs": [
    {
     "name": "stdout",
     "output_type": "stream",
     "text": [
      "<class 'tuple'>\n",
      "<class 'list'>\n",
      "<class 'dict'>\n",
      "Falsy\n",
      "Truty\n",
      "Truty\n",
      "Truty\n",
      "Falsy\n",
      "Truty\n",
      "Falsy\n",
      "Falsy\n",
      "Truty\n",
      "Falsy\n",
      "Truty\n",
      "Falsy\n",
      "Truty\n"
     ]
    }
   ],
   "source": [
    "#CONDICIONALES\n",
    "#Condicion (boolean)\n",
    "# valores trutys o \n",
    "#Falsys\n",
    "\n",
    "tuplas= ()\n",
    "listas= []\n",
    "diccionarios ={}\n",
    "\n",
    "print(type(tuplas)) #tuple\n",
    "print(type(listas)) #list\n",
    "print(type(diccionarios)) #dict\n",
    "\n",
    "if(\"\"):  # FALSY #usar dos puntos en lugar de {\n",
    "    print(\"Truty\")\n",
    "else:\n",
    "    print(\"Falsy\")\n",
    "    \n",
    "    \n",
    "    \n",
    "    \n",
    "if(\"A\"):  # Truty #usar dos puntos en lugar de {\n",
    "    print(\"Truty\")\n",
    "else:\n",
    "    print(\"Falsy\")\n",
    "    \n",
    "\n",
    "if(\"-1\"):  # TRUTY #usar dos puntos en lugar de {\n",
    "    print(\"Truty\")\n",
    "else:\n",
    "    print(\"Falsy\")\n",
    "    \n",
    "if(\"1\"):  # TRUTY #usar dos puntos en lugar de {\n",
    "    print(\"Truty\")\n",
    "else:\n",
    "    print(\"Falsy\")\n",
    "    \n",
    "    \n",
    "    \n",
    "        \n",
    "if(0.00):  # FALSY #usar dos puntos en lugar de {\n",
    "    print(\"Truty\")\n",
    "else:\n",
    "    print(\"Falsy\")\n",
    "    \n",
    "    \n",
    "if(0.01):  # Truty #usar dos puntos en lugar de {\n",
    "    print(\"Truty\")\n",
    "else:\n",
    "    print(\"Falsy\")\n",
    "\n",
    "    \n",
    "if(None):  # falsy #usar dos puntos en lugar de {\n",
    "    print(\"Truty\")\n",
    "else:\n",
    "    print(\"Falsy\")\n",
    "\n",
    "#lista\n",
    "if(()):  # falsy #usar dos puntos en lugar de {\n",
    "    print(\"Truty\")\n",
    "else:\n",
    "    print(\"Falsy\")\n",
    "    \n",
    "if((1.2, 5.2)):  # Truty #usar dos puntos en lugar de {\n",
    "    print(\"Truty\")\n",
    "else:\n",
    "    print(\"Falsy\")\n",
    "    \n",
    "    \n",
    "if([]):  # Falsy #usar dos puntos en lugar de {\n",
    "    print(\"Truty\")\n",
    "else:\n",
    "    print(\"Falsy\")\n",
    "    \n",
    "if([1.2,5.5]):  # Truty #usar dos puntos en lugar de {\n",
    "    print(\"Truty\")\n",
    "else:\n",
    "    print(\"Falsy\")\n",
    "\n",
    "    \n",
    "    \n",
    "if():  # Falsy #usar dos puntos en lugar de {\n",
    "    print(\"Truty\")\n",
    "else:\n",
    "    print(\"Falsy\")\n",
    "    \n",
    "if({nombre: \"Pedro\"}):  # Truty #usar dos puntos en lugar de {\n",
    "    print(\"Truty\")\n",
    "else:\n",
    "    print(\"Falsy\")"
   ]
  },
  {
   "cell_type": "code",
   "execution_count": 46,
   "metadata": {},
   "outputs": [
    {
     "name": "stdout",
     "output_type": "stream",
     "text": [
      "[3, 4, 5]\n",
      "[3, 4, 5, 6, 7, 8, 9, 10]\n",
      "[1, 2, 3, 4, 5, 6, 7]\n",
      "10\n",
      "[3, 4, 5, 6, 7, 8, 9]\n",
      "[3, 4, 5, 6, 7, 8, 9]\n"
     ]
    },
    {
     "data": {
      "text/plain": [
       "[1, 2, 3, 4, 5, 6, 7, 8, 9, 10]"
      ]
     },
     "execution_count": 46,
     "metadata": {},
     "output_type": "execute_result"
    }
   ],
   "source": [
    "#arreglos en python\n",
    "arreglo=[1,2,3,4,5,6,7,8,9,10]\n",
    "print(arreglo[2:5])#selecciona un intervalo abierto a la derecha ([2,5[)\n",
    "print(arreglo[2:]) #seleccionar un intervalo desde un indice hasta el final\n",
    "\n",
    "print(arreglo[:7])\n",
    "print(arreglo[-1])\n",
    "print(arreglo[2:-1])\n",
    "print(arreglo[-8:-1])\n",
    "arreglo [:-2]\n",
    "arreglo [:] #[1, 2, 3, 4, 5, 6, 7, 8, 9, 10]\n",
    "\n",
    "\n",
    "\n",
    "\n",
    "\n",
    "\n",
    "\n",
    "\n",
    "\n"
   ]
  },
  {
   "cell_type": "code",
   "execution_count": 51,
   "metadata": {},
   "outputs": [
    {
     "name": "stdout",
     "output_type": "stream",
     "text": [
      "<class 'bool'>\n",
      "True\n"
     ]
    }
   ],
   "source": [
    "#buscar algo dentro de un arreglo\n",
    "print (type(7 in arreglo) ) #<class 'bool'>\n",
    "print(7 in arreglo) #True\n"
   ]
  },
  {
   "cell_type": "code",
   "execution_count": 52,
   "metadata": {},
   "outputs": [
    {
     "data": {
      "text/plain": [
       "10"
      ]
     },
     "execution_count": 52,
     "metadata": {},
     "output_type": "execute_result"
    }
   ],
   "source": [
    "#Longitud de un arreglo\n",
    "len(arreglo) #10"
   ]
  },
  {
   "cell_type": "code",
   "execution_count": 59,
   "metadata": {},
   "outputs": [
    {
     "data": {
      "text/plain": [
       "[1, 1.1, 1.1, 2, 3, 4, 5, 6, 7, 8, 9, 10, 11, 11]"
      ]
     },
     "execution_count": 59,
     "metadata": {},
     "output_type": "execute_result"
    }
   ],
   "source": [
    "#A~nadir y eliminar un valor al arreglo\n",
    "arreglo.append(11)\n",
    "arreglo ##\n",
    "arreglo.pop() #11\n",
    "#aniadir en un indice\n",
    "arreglo.insert(1,1.1) \n",
    "arreglo  #[1, 1.1, 1.1, 2, 3, 4, 5, 6, 7, 8, 9, 10, 11, 11]"
   ]
  },
  {
   "cell_type": "code",
   "execution_count": 69,
   "metadata": {},
   "outputs": [
    {
     "name": "stdout",
     "output_type": "stream",
     "text": [
      "1\n",
      "1.1\n",
      "1.1\n",
      "2\n",
      "3\n",
      "4\n",
      "5\n",
      "6\n",
      "7\n",
      "8\n",
      "9\n",
      "10\n",
      "11\n",
      "11\n",
      "0\n",
      "1\n",
      "2\n",
      "3\n",
      "4\n",
      "5\n",
      "6\n",
      "7\n",
      "8\n",
      "9\n"
     ]
    }
   ],
   "source": [
    "#iteradores\n",
    "for numero in arreglo:  #dos puntos en lugar de {\n",
    "    print(numero)\n",
    "\n",
    "contador =0\n",
    "while contador< 10:\n",
    "    print(contador)\n",
    "    contador+=1"
   ]
  },
  {
   "cell_type": "code",
   "execution_count": 78,
   "metadata": {},
   "outputs": [
    {
     "name": "stdout",
     "output_type": "stream",
     "text": [
      "(1, 2, 3, 4, 5)\n"
     ]
    },
    {
     "data": {
      "text/plain": [
       "True"
      ]
     },
     "execution_count": 78,
     "metadata": {},
     "output_type": "execute_result"
    }
   ],
   "source": [
    "#Tupla\n",
    "#NO SE PUEDE REASIGNAR LAS TUPLAS, ELIMINAR ELEMENTOS NI FILTRAR\n",
    "# SOLO SE PERMITE count e index\n",
    "#LAS TUPLAS SE ASEMEJAN A LAS CONSTANTES\n",
    "tupla_numeros =(1,2,3,4,5)\n",
    "print(tupla_numeros)\n",
    "\n",
    "tupla_numeros[0:3]\n",
    "len(tupla_numeros)\n",
    "3 in tupla_numeros"
   ]
  },
  {
   "cell_type": "code",
   "execution_count": 94,
   "metadata": {},
   "outputs": [
    {
     "data": {
      "text/plain": [
       "{'nombre': 'Pedro',\n",
       " 'apellido': 'Cuasqui',\n",
       " 'edad': '27',\n",
       " 'hijos': 2,\n",
       " 'casado': False,\n",
       " 'mascotas': [{'Pedro': 'Marco antonio'}, {'Pedro': 'canario'}]}"
      ]
     },
     "execution_count": 94,
     "metadata": {},
     "output_type": "execute_result"
    }
   ],
   "source": [
    "#Diccionarios, solo en formato json\n",
    "pedro={\n",
    "    \"nombre\":\"Pedro\",\n",
    "    \"apellido\": \"Cuasqui\",\n",
    "    \"edad\":'27',\n",
    "    \"hijos\": 2,\n",
    "    \"casado\": False,\n",
    "    \"mascotas\": [{nombre:\"Marco antonio\"},{nombre:\"canario\"}]\n",
    "}\n",
    "\n",
    "pedro"
   ]
  },
  {
   "cell_type": "code",
   "execution_count": 107,
   "metadata": {},
   "outputs": [
    {
     "name": "stdout",
     "output_type": "stream",
     "text": [
      "Pedrito\n",
      "Pedrito\n",
      "Marco antonio\n"
     ]
    },
    {
     "data": {
      "text/plain": [
       "False"
      ]
     },
     "execution_count": 107,
     "metadata": {},
     "output_type": "execute_result"
    }
   ],
   "source": [
    "#acceder al diccionario\n",
    "\n",
    "print(pedro[\"nombre\"])\n",
    "pedro[\"nombre\"]= \"Pedrito\"\n",
    "print(pedro[\"nombre\"])\n",
    "\n",
    "print (pedro[\"mascotas\"][0]['Pedro'])\n",
    "\n",
    "pedro.keys() #dict_keys(['nombre', 'apellido', 'edad', 'hijos', 'casado', 'mascotas'])\n",
    "pedro.values() #dict_values(['Pedrito', 'Cuasqui', '27', 2, False, [{'Pedro': 'Marco antonio'}, {'Pedro': 'canario'}]])\n",
    "\n",
    "\n",
    "\"apellido\" in pedro.keys() #True\n",
    "\n",
    "\n",
    "1==1 or 2==3  #truty\n",
    "1==1 and 2==3  #falsy\n",
    "pedro."
   ]
  },
  {
   "cell_type": "code",
   "execution_count": null,
   "metadata": {},
   "outputs": [],
   "source": [
    "pe"
   ]
  }
 ],
 "metadata": {
  "kernelspec": {
   "display_name": "Python 3",
   "language": "python",
   "name": "python3"
  },
  "language_info": {
   "codemirror_mode": {
    "name": "ipython",
    "version": 3
   },
   "file_extension": ".py",
   "mimetype": "text/x-python",
   "name": "python",
   "nbconvert_exporter": "python",
   "pygments_lexer": "ipython3",
   "version": "3.7.3"
  },
  "widgets": {
   "application/vnd.jupyter.widget-state+json": {
    "state": {},
    "version_major": 2,
    "version_minor": 0
   }
  }
 },
 "nbformat": 4,
 "nbformat_minor": 4
}
