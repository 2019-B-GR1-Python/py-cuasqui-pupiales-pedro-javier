{
 "cells": [
  {
   "cell_type": "code",
   "execution_count": 38,
   "metadata": {},
   "outputs": [
    {
     "name": "stdout",
     "output_type": "stream",
     "text": [
      "hi\n",
      "hi\n",
      "<class 'NoneType'>\n",
      "LA SUMA ES: 50\n",
      "la univ: por defecto\n",
      "Los argumentos son\n",
      "color : blanco\n",
      "Placa : pd-456\n",
      "hp : 130\n",
      "anio : 2000\n",
      "Los argumentos son\n",
      "color : blanco\n",
      "Placa : pd-456\n",
      "hp : 130\n",
      "anio : 2000\n",
      "Los argumentos son\n",
      "color : Cafe\n",
      "Placa : pfg-4561\n",
      "hp : 123456789\n",
      "anio : 3000\n",
      "Los argumentos son\n",
      "color : Cafe\n",
      "Placa : kll-456\n",
      "hp : 546\n",
      "anio : 1995\n",
      "la suma es: 6114\n",
      "<class 'int'>\n",
      "<class 'tuple'>\n"
     ]
    }
   ],
   "source": [
    "#FUNCIONES\n",
    "#1) FUNCIONES VOID\n",
    "#2) FUNCIONES QUE RETORNAN UN VALOR\n",
    "def hola_mundo():\n",
    "    print(\"hi\")\n",
    "hola_mundo()\n",
    "\n",
    "print(type(hola_mundo())) #<-- la funcion void devuelve un tipo NONE\n",
    "\n",
    "def sumar_dos_numeros(num1, num2):#<- ARGUMENTOS REQUERIDOS\n",
    "    return num1+num2\n",
    "\n",
    "suma = sumar_dos_numeros(45,5)\n",
    "print(f\"LA SUMA ES: {suma}\")\n",
    "\n",
    "def imprimir_universidad(nombre='por defecto'): #<- ARGUMENTO OPCIONAL CON UN VALOR POR DEFECTO\n",
    "    print(f\"la univ: {nombre}\")\n",
    "    \n",
    "imprimir_universidad()\n",
    "\n",
    "def imprimir_carro(color, placa, hp, anio):\n",
    "    print(\"Los argumentos son\")\n",
    "    print(f\"color : {color}\")\n",
    "    print(f\"Placa : {placa}\")\n",
    "    print(f\"hp : {hp}\")\n",
    "    print(f\"anio : {anio}\")\n",
    "\n",
    "\n",
    "imprimir_carro(\"blanco\",\"pd-456\",130,2000) #<--PARAMETROS POR POSICION\n",
    "#NAMED PARAMETERS\n",
    "imprimir_carro(placa=\"pd-456\",anio=2000,hp=130,color=\"blanco\") #<-acepta parametros nombrados seriven en parametros opcionales y requeridos\n",
    "\n",
    "#reglas para usar parametros nombrados\n",
    " #def imprimir_carro(color, placa, hp, anio):\n",
    "\n",
    "#1) DEFINIR LOS PRIMEROS  ARGUMENTOS REQUERIDOS, SI SE DESEA USAR OPCIONALES, ADJUNTARLOS AL FINAL\n",
    "    #def imprimir_carro(color, placa, hp, anio=1995):\n",
    "    \n",
    "#2) SIEMPRE MANDAR TODOS LOS PARAMETROS REQUERIDOS\n",
    "imprimir_carro(\"Cafe\",\"pfg-4561\",anio=3000, hp=\"123456789\")\n",
    "\n",
    "\n",
    "#3) AL LLAMAR A LA FUNCION, SI YA SE ENVIA UN PARAMETRO NOMBRADO LOS SIGUENTES DEBEN SER NOMBRADOS\n",
    "imprimir_carro(\"Cafe\", placa=\"kll-456\", hp=546, anio=1995) #<PARAMETROS POR POSICION Y PARAMETROS NOMBRADOS\n",
    "\n",
    "#PARAMETROS INFINITOS\n",
    "def sumar_numeros(num1, *numeros):\n",
    "    if(len(numeros)==0):\n",
    "        print (num1)\n",
    "    else:\n",
    "        suma=num1\n",
    "        for numero in numeros:\n",
    "            suma = suma +numero\n",
    "        print(f\"la suma es: {suma}\")\n",
    "    print(type(num1))\n",
    "    print(type(numeros))\n",
    "    \n",
    "sumar_numeros(1,45,5412,656) #PREFERIBLEMENTE USAR LOS PARAMETROS INFINITOS AL FINAL\n",
    "    "
   ]
  },
  {
   "cell_type": "code",
   "execution_count": 47,
   "metadata": {},
   "outputs": [
    {
     "name": "stdout",
     "output_type": "stream",
     "text": [
      "<class 'dict'>\n",
      "{'tiempo_espera': {'hola': 'hola'}, 'nume_parametros': 5}\n"
     ]
    }
   ],
   "source": [
    "def imprimir_configuracion(nombre, #requerido\n",
    "                           valor=10, #opcional\n",
    "                           #*valores_carga, #infinito\n",
    "                           **key_word_arguments #diccionario, usar la palabra kwargs\n",
    "                          ):\n",
    "    print(type(key_word_arguments))\n",
    "    print(key_word_arguments)\n",
    "    \n",
    "#imprimir_configuracion(\"config_1\", 20,30,40,50)\n",
    "#LOS KEYWORD ARGUMENTS SON TODOS LOS PARAMETROS NOMBRADOS NO DEFINIDOS EN LA FUNCION\n",
    "imprimir_configuracion(nombre=\"config_1\", valor=20,tiempo_espera={\"hola\":\"hola\"}, nume_parametros=5)\n"
   ]
  },
  {
   "cell_type": "code",
   "execution_count": null,
   "metadata": {},
   "outputs": [],
   "source": []
  }
 ],
 "metadata": {
  "kernelspec": {
   "display_name": "Python 3",
   "language": "python",
   "name": "python3"
  },
  "language_info": {
   "codemirror_mode": {
    "name": "ipython",
    "version": 3
   },
   "file_extension": ".py",
   "mimetype": "text/x-python",
   "name": "python",
   "nbconvert_exporter": "python",
   "pygments_lexer": "ipython3",
   "version": "3.7.3"
  }
 },
 "nbformat": 4,
 "nbformat_minor": 2
}
